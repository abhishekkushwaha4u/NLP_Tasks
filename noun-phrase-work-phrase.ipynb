{
 "cells": [
  {
   "cell_type": "code",
   "execution_count": 2,
   "metadata": {},
   "outputs": [],
   "source": [
    "import nltk"
   ]
  },
  {
   "cell_type": "code",
   "execution_count": 3,
   "metadata": {},
   "outputs": [
    {
     "name": "stdout",
     "output_type": "stream",
     "text": [
      "(S\n",
      "  (NP the/DT little/JJ yellow/JJ dog/NN)\n",
      "  barked/VBD\n",
      "  at/IN\n",
      "  (NP the/DT cat/NN))\n"
     ]
    },
    {
     "data": {
      "text/plain": [
       "list"
      ]
     },
     "execution_count": 3,
     "metadata": {},
     "output_type": "execute_result"
    }
   ],
   "source": [
    "sentence = [(\"the\", \"DT\"), (\"little\", \"JJ\"), (\"yellow\", \"JJ\"),(\"dog\", \"NN\"), (\"barked\", \"VBD\"), (\"at\", \"IN\"),  (\"the\", \"DT\"), (\"cat\", \"NN\")]\n",
    "grammar =\"NP: {<DT>?<JJ>*<NN>}\"\n",
    "c= nltk.RegexpParser(grammar)\n",
    "result=c.parse(sentence)\n",
    "print(result)\n",
    "type(sentence)"
   ]
  },
  {
   "cell_type": "code",
   "execution_count": 4,
   "metadata": {},
   "outputs": [],
   "source": [
    "result.draw()"
   ]
  },
  {
   "cell_type": "markdown",
   "metadata": {},
   "source": [
    "word tokenise, sentence tokenise then get noun phrases"
   ]
  },
  {
   "cell_type": "code",
   "execution_count": 5,
   "metadata": {},
   "outputs": [
    {
     "name": "stdout",
     "output_type": "stream",
     "text": [
      "['Four', 'score', 'and', 'seven', 'years', 'ago', 'our', 'fathers', 'brought', 'forth', 'on', 'this', 'continent', ',', 'a', 'new', 'nation', ',', 'conceived', 'in', 'Liberty', ',', 'and', 'dedicated', 'to', 'the', 'proposition', 'that', 'all', 'men', 'are', 'created', 'equal', '.']\n"
     ]
    }
   ],
   "source": [
    "text=\"Four score and seven years ago our fathers brought forth on this continent, a new nation, conceived in Liberty, and dedicated to the proposition that all men are created equal. \"\n",
    "tokens=nltk.word_tokenize(text);\n",
    "print(tokens)"
   ]
  },
  {
   "cell_type": "code",
   "execution_count": 6,
   "metadata": {},
   "outputs": [
    {
     "data": {
      "text/plain": [
       "[('Four', 'CD'),\n",
       " ('score', 'NN'),\n",
       " ('and', 'CC'),\n",
       " ('seven', 'CD'),\n",
       " ('years', 'NNS'),\n",
       " ('ago', 'RB'),\n",
       " ('our', 'PRP$'),\n",
       " ('fathers', 'NNS'),\n",
       " ('brought', 'VBN'),\n",
       " ('forth', 'RB'),\n",
       " ('on', 'IN'),\n",
       " ('this', 'DT'),\n",
       " ('continent', 'NN'),\n",
       " (',', ','),\n",
       " ('a', 'DT'),\n",
       " ('new', 'JJ'),\n",
       " ('nation', 'NN'),\n",
       " (',', ','),\n",
       " ('conceived', 'VBN'),\n",
       " ('in', 'IN'),\n",
       " ('Liberty', 'NNP'),\n",
       " (',', ','),\n",
       " ('and', 'CC'),\n",
       " ('dedicated', 'VBD'),\n",
       " ('to', 'TO'),\n",
       " ('the', 'DT'),\n",
       " ('proposition', 'NN'),\n",
       " ('that', 'IN'),\n",
       " ('all', 'DT'),\n",
       " ('men', 'NNS'),\n",
       " ('are', 'VBP'),\n",
       " ('created', 'VBN'),\n",
       " ('equal', 'JJ'),\n",
       " ('.', '.')]"
      ]
     },
     "execution_count": 6,
     "metadata": {},
     "output_type": "execute_result"
    }
   ],
   "source": [
    "a=nltk.pos_tag(tokens)\n",
    "a\n"
   ]
  },
  {
   "cell_type": "code",
   "execution_count": 7,
   "metadata": {},
   "outputs": [
    {
     "name": "stdout",
     "output_type": "stream",
     "text": [
      "(S\n",
      "  Four/CD\n",
      "  (NP score/NN)\n",
      "  and/CC\n",
      "  seven/CD\n",
      "  years/NNS\n",
      "  ago/RB\n",
      "  our/PRP$\n",
      "  fathers/NNS\n",
      "  brought/VBN\n",
      "  forth/RB\n",
      "  on/IN\n",
      "  (NP this/DT continent/NN)\n",
      "  ,/,\n",
      "  (NP a/DT new/JJ nation/NN)\n",
      "  ,/,\n",
      "  conceived/VBN\n",
      "  in/IN\n",
      "  Liberty/NNP\n",
      "  ,/,\n",
      "  and/CC\n",
      "  dedicated/VBD\n",
      "  to/TO\n",
      "  (NP the/DT proposition/NN)\n",
      "  that/IN\n",
      "  all/DT\n",
      "  men/NNS\n",
      "  are/VBP\n",
      "  created/VBN\n",
      "  equal/JJ\n",
      "  ./.)\n"
     ]
    }
   ],
   "source": [
    "result1=c.parse(a)\n",
    "print(result1)"
   ]
  },
  {
   "cell_type": "code",
   "execution_count": null,
   "metadata": {},
   "outputs": [],
   "source": []
  },
  {
   "cell_type": "code",
   "execution_count": 8,
   "metadata": {},
   "outputs": [
    {
     "name": "stdout",
     "output_type": "stream",
     "text": [
      "(S\n",
      "  Four/CD\n",
      "  score/NN\n",
      "  and/CC\n",
      "  seven/CD\n",
      "  years/NNS\n",
      "  ago/RB\n",
      "  our/PRP$\n",
      "  fathers/NNS\n",
      "  (VP brought/VBN)\n",
      "  forth/RB\n",
      "  on/IN\n",
      "  this/DT\n",
      "  continent/NN\n",
      "  ,/,\n",
      "  a/DT\n",
      "  new/JJ\n",
      "  nation/NN\n",
      "  ,/,\n",
      "  (VP conceived/VBN)\n",
      "  in/IN\n",
      "  Liberty/NNP\n",
      "  ,/,\n",
      "  and/CC\n",
      "  (VP dedicated/VBD)\n",
      "  to/TO\n",
      "  the/DT\n",
      "  proposition/NN\n",
      "  that/IN\n",
      "  all/DT\n",
      "  men/NNS\n",
      "  (VP are/VBP created/VBN)\n",
      "  equal/JJ\n",
      "  ./.)\n"
     ]
    },
    {
     "data": {
      "text/plain": [
       "list"
      ]
     },
     "execution_count": 8,
     "metadata": {},
     "output_type": "execute_result"
    }
   ],
   "source": [
    "tex2=\"Four score and seven years ago our fathers brought forth on this continent, a new nation, conceived in Liberty, and dedicated to the proposition that all men are created equal. \"\n",
    "grammar=\"VP:{<VB>*<VB.?>+<VB>?}\" # Verbs and Verb Phrases\n",
    "c= nltk.RegexpParser(grammar)\n",
    "b=nltk.pos_tag(tokens)\n",
    "\n",
    "result=c.parse(b)\n",
    "print(result)\n",
    "type(sentence)"
   ]
  },
  {
   "cell_type": "code",
   "execution_count": null,
   "metadata": {},
   "outputs": [],
   "source": [
    "result.draw()"
   ]
  },
  {
   "cell_type": "code",
   "execution_count": null,
   "metadata": {},
   "outputs": [],
   "source": []
  },
  {
   "cell_type": "code",
   "execution_count": null,
   "metadata": {},
   "outputs": [],
   "source": []
  }
 ],
 "metadata": {
  "kernelspec": {
   "display_name": "Python 3",
   "language": "python",
   "name": "python3"
  },
  "language_info": {
   "codemirror_mode": {
    "name": "ipython",
    "version": 3
   },
   "file_extension": ".py",
   "mimetype": "text/x-python",
   "name": "python",
   "nbconvert_exporter": "python",
   "pygments_lexer": "ipython3",
   "version": "3.7.6"
  }
 },
 "nbformat": 4,
 "nbformat_minor": 4
}
