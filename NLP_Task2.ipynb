{
  "nbformat": 4,
  "nbformat_minor": 0,
  "metadata": {
    "colab": {
      "name": "NLP_Task2.ipynb",
      "provenance": [],
      "collapsed_sections": []
    },
    "kernelspec": {
      "name": "python3",
      "display_name": "Python 3"
    }
  },
  "cells": [
    {
      "cell_type": "code",
      "metadata": {
        "id": "SBINiMHAP8xv",
        "outputId": "6f68a8a4-fc33-46a9-b595-87386deca4cc",
        "colab": {
          "base_uri": "https://localhost:8080/"
        }
      },
      "source": [
        "!pip install nltk"
      ],
      "execution_count": 2,
      "outputs": [
        {
          "output_type": "stream",
          "text": [
            "Requirement already satisfied: nltk in /usr/local/lib/python3.6/dist-packages (3.2.5)\n",
            "Requirement already satisfied: six in /usr/local/lib/python3.6/dist-packages (from nltk) (1.15.0)\n"
          ],
          "name": "stdout"
        }
      ]
    },
    {
      "cell_type": "markdown",
      "metadata": {
        "id": "5tuhrcG3RXIa"
      },
      "source": [
        "**Text Processing**"
      ]
    },
    {
      "cell_type": "code",
      "metadata": {
        "id": "rPADpVgW8gNt",
        "outputId": "7a3b676c-0e81-43ae-e8c7-81a0e436bc58",
        "colab": {
          "base_uri": "https://localhost:8080/"
        }
      },
      "source": [
        "import nltk\n",
        "nltk.download('cmudict')"
      ],
      "execution_count": 5,
      "outputs": [
        {
          "output_type": "stream",
          "text": [
            "[nltk_data] Downloading package cmudict to /root/nltk_data...\n",
            "[nltk_data]   Unzipping corpora/cmudict.zip.\n"
          ],
          "name": "stdout"
        },
        {
          "output_type": "execute_result",
          "data": {
            "text/plain": [
              "True"
            ]
          },
          "metadata": {
            "tags": []
          },
          "execution_count": 5
        }
      ]
    },
    {
      "cell_type": "code",
      "metadata": {
        "id": "03rJe8Zl9iVY",
        "outputId": "7c47ac95-4aa6-4a84-e4d2-ee77a5e98e51",
        "colab": {
          "base_uri": "https://localhost:8080/"
        }
      },
      "source": [
        "import nltk\n",
        "entries = nltk.corpus.cmudict.entries()\n",
        "len(entries)"
      ],
      "execution_count": 6,
      "outputs": [
        {
          "output_type": "execute_result",
          "data": {
            "text/plain": [
              "133737"
            ]
          },
          "metadata": {
            "tags": []
          },
          "execution_count": 6
        }
      ]
    },
    {
      "cell_type": "code",
      "metadata": {
        "id": "qC4nQVvw920r",
        "outputId": "de1834e5-0303-4849-d32f-41f212bfeb25",
        "colab": {
          "base_uri": "https://localhost:8080/"
        }
      },
      "source": [
        "entries[:50]"
      ],
      "execution_count": 7,
      "outputs": [
        {
          "output_type": "execute_result",
          "data": {
            "text/plain": [
              "[('a', ['AH0']),\n",
              " ('a.', ['EY1']),\n",
              " ('a', ['EY1']),\n",
              " ('a42128',\n",
              "  ['EY1',\n",
              "   'F',\n",
              "   'AO1',\n",
              "   'R',\n",
              "   'T',\n",
              "   'UW1',\n",
              "   'W',\n",
              "   'AH1',\n",
              "   'N',\n",
              "   'T',\n",
              "   'UW1',\n",
              "   'EY1',\n",
              "   'T']),\n",
              " ('aaa', ['T', 'R', 'IH2', 'P', 'AH0', 'L', 'EY1']),\n",
              " ('aaberg', ['AA1', 'B', 'ER0', 'G']),\n",
              " ('aachen', ['AA1', 'K', 'AH0', 'N']),\n",
              " ('aachener', ['AA1', 'K', 'AH0', 'N', 'ER0']),\n",
              " ('aaker', ['AA1', 'K', 'ER0']),\n",
              " ('aalseth', ['AA1', 'L', 'S', 'EH0', 'TH']),\n",
              " ('aamodt', ['AA1', 'M', 'AH0', 'T']),\n",
              " ('aancor', ['AA1', 'N', 'K', 'AO2', 'R']),\n",
              " ('aardema', ['AA0', 'R', 'D', 'EH1', 'M', 'AH0']),\n",
              " ('aardvark', ['AA1', 'R', 'D', 'V', 'AA2', 'R', 'K']),\n",
              " ('aaron', ['EH1', 'R', 'AH0', 'N']),\n",
              " (\"aaron's\", ['EH1', 'R', 'AH0', 'N', 'Z']),\n",
              " ('aarons', ['EH1', 'R', 'AH0', 'N', 'Z']),\n",
              " ('aaronson', ['EH1', 'R', 'AH0', 'N', 'S', 'AH0', 'N']),\n",
              " ('aaronson', ['AA1', 'R', 'AH0', 'N', 'S', 'AH0', 'N']),\n",
              " (\"aaronson's\", ['EH1', 'R', 'AH0', 'N', 'S', 'AH0', 'N', 'Z']),\n",
              " (\"aaronson's\", ['AA1', 'R', 'AH0', 'N', 'S', 'AH0', 'N', 'Z']),\n",
              " ('aarti', ['AA1', 'R', 'T', 'IY2']),\n",
              " ('aase', ['AA1', 'S']),\n",
              " ('aasen', ['AA1', 'S', 'AH0', 'N']),\n",
              " ('ab', ['AE1', 'B']),\n",
              " ('ab', ['EY1', 'B', 'IY1']),\n",
              " ('ababa', ['AH0', 'B', 'AA1', 'B', 'AH0']),\n",
              " ('ababa', ['AA1', 'B', 'AH0', 'B', 'AH0']),\n",
              " ('abacha', ['AE1', 'B', 'AH0', 'K', 'AH0']),\n",
              " ('aback', ['AH0', 'B', 'AE1', 'K']),\n",
              " ('abaco', ['AE1', 'B', 'AH0', 'K', 'OW2']),\n",
              " ('abacus', ['AE1', 'B', 'AH0', 'K', 'AH0', 'S']),\n",
              " ('abad', ['AH0', 'B', 'AA1', 'D']),\n",
              " ('abadaka', ['AH0', 'B', 'AE1', 'D', 'AH0', 'K', 'AH0']),\n",
              " ('abadi', ['AH0', 'B', 'AE1', 'D', 'IY0']),\n",
              " ('abadie', ['AH0', 'B', 'AE1', 'D', 'IY0']),\n",
              " ('abair', ['AH0', 'B', 'EH1', 'R']),\n",
              " ('abalkin', ['AH0', 'B', 'AA1', 'L', 'K', 'IH0', 'N']),\n",
              " ('abalone', ['AE2', 'B', 'AH0', 'L', 'OW1', 'N', 'IY0']),\n",
              " ('abalos', ['AA0', 'B', 'AA1', 'L', 'OW0', 'Z']),\n",
              " ('abandon', ['AH0', 'B', 'AE1', 'N', 'D', 'AH0', 'N']),\n",
              " ('abandoned', ['AH0', 'B', 'AE1', 'N', 'D', 'AH0', 'N', 'D']),\n",
              " ('abandoning', ['AH0', 'B', 'AE1', 'N', 'D', 'AH0', 'N', 'IH0', 'NG']),\n",
              " ('abandonment',\n",
              "  ['AH0', 'B', 'AE1', 'N', 'D', 'AH0', 'N', 'M', 'AH0', 'N', 'T']),\n",
              " ('abandonments',\n",
              "  ['AH0', 'B', 'AE1', 'N', 'D', 'AH0', 'N', 'M', 'AH0', 'N', 'T', 'S']),\n",
              " ('abandons', ['AH0', 'B', 'AE1', 'N', 'D', 'AH0', 'N', 'Z']),\n",
              " ('abanto', ['AH0', 'B', 'AE1', 'N', 'T', 'OW0']),\n",
              " ('abarca', ['AH0', 'B', 'AA1', 'R', 'K', 'AH0']),\n",
              " ('abare', ['AA0', 'B', 'AA1', 'R', 'IY0']),\n",
              " ('abascal', ['AE1', 'B', 'AH0', 'S', 'K', 'AH0', 'L'])]"
            ]
          },
          "metadata": {
            "tags": []
          },
          "execution_count": 7
        }
      ]
    },
    {
      "cell_type": "markdown",
      "metadata": {
        "id": "t-Bc0g5RBHWX"
      },
      "source": [
        "## Task 2: Lexicons"
      ]
    },
    {
      "cell_type": "code",
      "metadata": {
        "id": "bDldmqwJ-Kxf",
        "outputId": "f948098e-49e5-4380-8949-337b36df2db9",
        "colab": {
          "base_uri": "https://localhost:8080/"
        }
      },
      "source": [
        "nltk.download('wordnet')\n",
        "from nltk.corpus import wordnet as wn\n",
        "\n",
        "wn.synsets('sleep')"
      ],
      "execution_count": 9,
      "outputs": [
        {
          "output_type": "stream",
          "text": [
            "[nltk_data] Downloading package wordnet to /root/nltk_data...\n",
            "[nltk_data]   Unzipping corpora/wordnet.zip.\n"
          ],
          "name": "stdout"
        },
        {
          "output_type": "execute_result",
          "data": {
            "text/plain": [
              "[Synset('sleep.n.01'),\n",
              " Synset('sleep.n.02'),\n",
              " Synset('sleep.n.03'),\n",
              " Synset('rest.n.05'),\n",
              " Synset('sleep.v.01'),\n",
              " Synset('sleep.v.02')]"
            ]
          },
          "metadata": {
            "tags": []
          },
          "execution_count": 9
        }
      ]
    },
    {
      "cell_type": "code",
      "metadata": {
        "id": "oN_LuoYK-T-X",
        "outputId": "60e4a3e2-7778-4e6a-914c-ebe43ba44859",
        "colab": {
          "base_uri": "https://localhost:8080/"
        }
      },
      "source": [
        "wn.synset('sleep.v.01').lemma_names()"
      ],
      "execution_count": 10,
      "outputs": [
        {
          "output_type": "execute_result",
          "data": {
            "text/plain": [
              "['sleep', 'kip', 'slumber', \"log_Z's\", \"catch_some_Z's\"]"
            ]
          },
          "metadata": {
            "tags": []
          },
          "execution_count": 10
        }
      ]
    },
    {
      "cell_type": "code",
      "metadata": {
        "id": "RTvyy-vn-dmz",
        "outputId": "a13c9351-cdb4-47f4-d4a5-bb51b79934c5",
        "colab": {
          "base_uri": "https://localhost:8080/"
        }
      },
      "source": [
        "wn.synsets('song')"
      ],
      "execution_count": 12,
      "outputs": [
        {
          "output_type": "execute_result",
          "data": {
            "text/plain": [
              "[Synset('song.n.01'),\n",
              " Synset('song.n.02'),\n",
              " Synset('song.n.03'),\n",
              " Synset('birdcall.n.01'),\n",
              " Synset('song.n.05'),\n",
              " Synset('sung.n.01')]"
            ]
          },
          "metadata": {
            "tags": []
          },
          "execution_count": 12
        }
      ]
    },
    {
      "cell_type": "code",
      "metadata": {
        "id": "FvGOF7-P-mz8",
        "outputId": "897a39d6-f342-4e30-c8dc-0d7922fa5b4f",
        "colab": {
          "base_uri": "https://localhost:8080/"
        }
      },
      "source": [
        "wn.synset('birdcall.n.01').lemma_names()"
      ],
      "execution_count": 13,
      "outputs": [
        {
          "output_type": "execute_result",
          "data": {
            "text/plain": [
              "['birdcall', 'call', 'birdsong', 'song']"
            ]
          },
          "metadata": {
            "tags": []
          },
          "execution_count": 13
        }
      ]
    },
    {
      "cell_type": "markdown",
      "metadata": {
        "id": "6plhCrjaBATA"
      },
      "source": [
        "## Task 3: Stemming"
      ]
    },
    {
      "cell_type": "code",
      "metadata": {
        "id": "3au2oNp7-q2d"
      },
      "source": [
        "# Porter\n",
        "from nltk import PorterStemmer\n",
        "port = PorterStemmer()"
      ],
      "execution_count": 18,
      "outputs": []
    },
    {
      "cell_type": "code",
      "metadata": {
        "id": "cYV0WIsV_7xq",
        "outputId": "c18a5467-a6ce-4e79-9991-e0ffb67818fc",
        "colab": {
          "base_uri": "https://localhost:8080/",
          "height": 35
        }
      },
      "source": [
        "port.stem(\"Surfing\")"
      ],
      "execution_count": 19,
      "outputs": [
        {
          "output_type": "execute_result",
          "data": {
            "application/vnd.google.colaboratory.intrinsic+json": {
              "type": "string"
            },
            "text/plain": [
              "'surf'"
            ]
          },
          "metadata": {
            "tags": []
          },
          "execution_count": 19
        }
      ]
    },
    {
      "cell_type": "code",
      "metadata": {
        "id": "o4LDNxWlACf0",
        "outputId": "89954f44-be54-4d40-c2c9-8fd0104a6313",
        "colab": {
          "base_uri": "https://localhost:8080/",
          "height": 35
        }
      },
      "source": [
        "port.stem(\"Happiness\")"
      ],
      "execution_count": 20,
      "outputs": [
        {
          "output_type": "execute_result",
          "data": {
            "application/vnd.google.colaboratory.intrinsic+json": {
              "type": "string"
            },
            "text/plain": [
              "'happi'"
            ]
          },
          "metadata": {
            "tags": []
          },
          "execution_count": 20
        }
      ]
    },
    {
      "cell_type": "code",
      "metadata": {
        "id": "N5Shkk6FAFTh",
        "outputId": "c8d4c469-bb1d-4a95-9581-ac562e508066",
        "colab": {
          "base_uri": "https://localhost:8080/",
          "height": 35
        }
      },
      "source": [
        "port.stem(\"Sleepy\")"
      ],
      "execution_count": 21,
      "outputs": [
        {
          "output_type": "execute_result",
          "data": {
            "application/vnd.google.colaboratory.intrinsic+json": {
              "type": "string"
            },
            "text/plain": [
              "'sleepi'"
            ]
          },
          "metadata": {
            "tags": []
          },
          "execution_count": 21
        }
      ]
    },
    {
      "cell_type": "code",
      "metadata": {
        "id": "S7lKhllNAJVa"
      },
      "source": [
        "#Lancaster\n",
        "\n",
        "from nltk import LancasterStemmer\n",
        "lc = LancasterStemmer()"
      ],
      "execution_count": 22,
      "outputs": []
    },
    {
      "cell_type": "code",
      "metadata": {
        "id": "A0glHnSfAQNd",
        "outputId": "45a3a817-244f-4855-8833-7e307c56cba7",
        "colab": {
          "base_uri": "https://localhost:8080/",
          "height": 35
        }
      },
      "source": [
        "lc.stem(\"happiness\")"
      ],
      "execution_count": 23,
      "outputs": [
        {
          "output_type": "execute_result",
          "data": {
            "application/vnd.google.colaboratory.intrinsic+json": {
              "type": "string"
            },
            "text/plain": [
              "'happy'"
            ]
          },
          "metadata": {
            "tags": []
          },
          "execution_count": 23
        }
      ]
    },
    {
      "cell_type": "code",
      "metadata": {
        "id": "WlUJdPYaAR6w",
        "outputId": "0428f7d4-8415-4631-e6e1-b3f2abc4b0fa",
        "colab": {
          "base_uri": "https://localhost:8080/",
          "height": 35
        }
      },
      "source": [
        "lc.stem(\"Mining\")"
      ],
      "execution_count": 24,
      "outputs": [
        {
          "output_type": "execute_result",
          "data": {
            "application/vnd.google.colaboratory.intrinsic+json": {
              "type": "string"
            },
            "text/plain": [
              "'min'"
            ]
          },
          "metadata": {
            "tags": []
          },
          "execution_count": 24
        }
      ]
    },
    {
      "cell_type": "code",
      "metadata": {
        "id": "8kbHvdwHATcP"
      },
      "source": [
        "# Regex\n",
        "\n",
        "from nltk.stem import RegexpStemmer\n",
        "reg = RegexpStemmer('ing|y')"
      ],
      "execution_count": 25,
      "outputs": []
    },
    {
      "cell_type": "code",
      "metadata": {
        "id": "6V3VnR-dA1R6",
        "outputId": "f38e2a21-6c16-44d8-d39b-8b28e318dc16",
        "colab": {
          "base_uri": "https://localhost:8080/",
          "height": 35
        }
      },
      "source": [
        "reg.stem('thanking')"
      ],
      "execution_count": 26,
      "outputs": [
        {
          "output_type": "execute_result",
          "data": {
            "application/vnd.google.colaboratory.intrinsic+json": {
              "type": "string"
            },
            "text/plain": [
              "'thank'"
            ]
          },
          "metadata": {
            "tags": []
          },
          "execution_count": 26
        }
      ]
    },
    {
      "cell_type": "code",
      "metadata": {
        "id": "0PhfrQTfA3jG",
        "outputId": "02603b27-a562-41ff-b6fa-990311176ad3",
        "colab": {
          "base_uri": "https://localhost:8080/",
          "height": 35
        }
      },
      "source": [
        "reg.stem('dining')"
      ],
      "execution_count": 27,
      "outputs": [
        {
          "output_type": "execute_result",
          "data": {
            "application/vnd.google.colaboratory.intrinsic+json": {
              "type": "string"
            },
            "text/plain": [
              "'din'"
            ]
          },
          "metadata": {
            "tags": []
          },
          "execution_count": 27
        }
      ]
    },
    {
      "cell_type": "code",
      "metadata": {
        "id": "oAz_HHMHBrTM"
      },
      "source": [
        "#Snowball\n",
        "\n",
        "from nltk.stem import SnowballStemmer\n",
        "snow = SnowballStemmer('french')"
      ],
      "execution_count": 28,
      "outputs": []
    },
    {
      "cell_type": "code",
      "metadata": {
        "id": "Yzqkjm73B7Gy",
        "outputId": "e3a2b031-574d-4016-fb8b-13989544c97a",
        "colab": {
          "base_uri": "https://localhost:8080/",
          "height": 35
        }
      },
      "source": [
        "snow.stem(\"filles\")"
      ],
      "execution_count": 29,
      "outputs": [
        {
          "output_type": "execute_result",
          "data": {
            "application/vnd.google.colaboratory.intrinsic+json": {
              "type": "string"
            },
            "text/plain": [
              "'fill'"
            ]
          },
          "metadata": {
            "tags": []
          },
          "execution_count": 29
        }
      ]
    },
    {
      "cell_type": "code",
      "metadata": {
        "id": "Z8L1TVrfCfs1",
        "outputId": "7ff97eec-667e-4f60-aea4-d952191c950e",
        "colab": {
          "base_uri": "https://localhost:8080/",
          "height": 35
        }
      },
      "source": [
        "snow.stem(\"manges\")"
      ],
      "execution_count": 30,
      "outputs": [
        {
          "output_type": "execute_result",
          "data": {
            "application/vnd.google.colaboratory.intrinsic+json": {
              "type": "string"
            },
            "text/plain": [
              "'mang'"
            ]
          },
          "metadata": {
            "tags": []
          },
          "execution_count": 30
        }
      ]
    },
    {
      "cell_type": "code",
      "metadata": {
        "id": "w1Vza1cZCk3h",
        "outputId": "965b41c6-56eb-4967-8c88-5d60da078013",
        "colab": {
          "base_uri": "https://localhost:8080/"
        }
      },
      "source": [
        "text = \"Learning in covid is challenging\"\n",
        "\n",
        "stemmed = ' '.join([port.stem(token) for token in text.split(\" \")])\n",
        "print(stemmed)"
      ],
      "execution_count": 31,
      "outputs": [
        {
          "output_type": "stream",
          "text": [
            "learn in covid is challeng\n"
          ],
          "name": "stdout"
        }
      ]
    },
    {
      "cell_type": "markdown",
      "metadata": {
        "id": "U6uTgTbzD8Vi"
      },
      "source": [
        "## Task 4: Segmenting an unsegmented language using Jieba"
      ]
    },
    {
      "cell_type": "code",
      "metadata": {
        "id": "JLey3xeXEBg5"
      },
      "source": [
        "import jieba"
      ],
      "execution_count": 32,
      "outputs": []
    },
    {
      "cell_type": "code",
      "metadata": {
        "id": "jLuR0anpECsP",
        "outputId": "fb09172c-aa43-43c4-de53-eb94875e2574",
        "colab": {
          "base_uri": "https://localhost:8080/"
        }
      },
      "source": [
        "segments = jieba.cut('把句子中所有的可以成词的词语都扫描出来', cut_all = True)\n",
        "print(' '.join(segments))"
      ],
      "execution_count": 35,
      "outputs": [
        {
          "output_type": "stream",
          "text": [
            "把 句子 中所 所有 的 可以 成 词 的 词语 都 扫描 描出 描出来 出来\n"
          ],
          "name": "stdout"
        }
      ]
    }
  ]
}